{
 "cells": [
  {
   "cell_type": "code",
   "execution_count": 2,
   "metadata": {},
   "outputs": [
    {
     "name": "stdout",
     "output_type": "stream",
     "text": [
      "Skipping Diamond Princess\n",
      "Skipping Burma\n",
      "Skipping MS Zaandam\n",
      "Skipping Sao Tome and Principe\n"
     ]
    }
   ],
   "source": [
    "# get_country_populations.py\n",
    "\"\"\"\n",
    "Salva um arquivo CSV com a população de cada país\n",
    "\"\"\"\n",
    "\n",
    "import pandas as pd\n",
    "from country_cleaner import country_cleaner\n",
    "\n",
    "# Puxa os dados da wikipedia\n",
    "url = 'https://en.wikipedia.org/wiki/List_of_countries_and_dependencies_by_population'\n",
    "# priemira table\n",
    "df = pd.read_html(url)[0]\n",
    "\n",
    "# mudar o nome da coluna\n",
    "df.rename(columns={'Country (or dependent territory)': 'Country'}, inplace=True)\n",
    "# limpar notas de rodapé\n",
    "df['Country'] = df['Country'].str.replace('\\[\\w\\]', '')\n",
    "#COluna Country vira index\n",
    "df.index = df['Country']\n",
    "\n",
    "# Nome do arquivo salvo na rotina anterior\n",
    "LOCAL_CSV_FILE = 'covid-19-cases.csv'\n",
    "df2 = pd.read_csv(LOCAL_CSV_FILE)\n",
    "# Chave unica de nome dos paises\n",
    "jh_countries = df2['Country/Region'].unique()\n",
    "\n",
    "with open('country_populations.csv', 'w') as fo:\n",
    "    print('Country, Population', file=fo)\n",
    "    for country in jh_countries:\n",
    "        # Se o nome do país não for encontrado procura no nosso script de country_cleaner\n",
    "        if country not in df.index:\n",
    "            try:\n",
    "                country = country_aliases[country]\n",
    "            except KeyError:\n",
    "                #se nao acha o país, pula\n",
    "                print('Pulando', country)\n",
    "                continue\n",
    "        # salva um arquivo csv com nome do país e populacao\n",
    "        print('\"{}\", {}'.format(country, df.at[country, 'Population']),\n",
    "              file=fo)"
   ]
  },
  {
   "cell_type": "code",
   "execution_count": null,
   "metadata": {},
   "outputs": [],
   "source": []
  }
 ],
 "metadata": {
  "kernelspec": {
   "display_name": "Python 3",
   "language": "python",
   "name": "python3"
  },
  "language_info": {
   "codemirror_mode": {
    "name": "ipython",
    "version": 3
   },
   "file_extension": ".py",
   "mimetype": "text/x-python",
   "name": "python",
   "nbconvert_exporter": "python",
   "pygments_lexer": "ipython3",
   "version": "3.7.3"
  }
 },
 "nbformat": 4,
 "nbformat_minor": 2
}
